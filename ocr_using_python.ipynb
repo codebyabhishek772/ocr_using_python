{
  "nbformat": 4,
  "nbformat_minor": 0,
  "metadata": {
    "colab": {
      "name": "ocr_using_python.ipynb",
      "provenance": [],
      "collapsed_sections": [],
      "authorship_tag": "ABX9TyPJQD/sF2EUGHVEvUGCQQYk",
      "include_colab_link": true
    },
    "kernelspec": {
      "name": "python3",
      "display_name": "Python 3"
    }
  },
  "cells": [
    {
      "cell_type": "markdown",
      "metadata": {
        "id": "view-in-github",
        "colab_type": "text"
      },
      "source": [
        "<a href=\"https://colab.research.google.com/github/codebyabhishek772/ocr_using_python/blob/master/ocr_using_python.ipynb\" target=\"_parent\"><img src=\"https://colab.research.google.com/assets/colab-badge.svg\" alt=\"Open In Colab\"/></a>"
      ]
    },
    {
      "cell_type": "code",
      "metadata": {
        "id": "ylhuhqeD7L1I",
        "colab_type": "code",
        "colab": {}
      },
      "source": [
        "import os\n",
        "import pytesseract\n",
        "import os\n",
        "from PIL import Image "
      ],
      "execution_count": null,
      "outputs": []
    },
    {
      "cell_type": "code",
      "metadata": {
        "id": "68eg1rkS7Q_3",
        "colab_type": "code",
        "colab": {}
      },
      "source": [
        "pytesseract.pytesseract.tesseract_cmd = r\"E:\\tsss\\tesseract.exe\""
      ],
      "execution_count": null,
      "outputs": []
    },
    {
      "cell_type": "code",
      "metadata": {
        "id": "AalAKQ687xm1",
        "colab_type": "code",
        "colab": {}
      },
      "source": [
        "def convert():\n",
        "  img = Image.open('img.jpg')\n",
        "  text = pytesseract.image_to_string(img)\n",
        "  print(text)\n",
        "\n",
        "convert()"
      ],
      "execution_count": null,
      "outputs": []
    }
  ]
}