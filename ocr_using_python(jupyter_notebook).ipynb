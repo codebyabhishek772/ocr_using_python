{
  "nbformat": 4,
  "nbformat_minor": 0,
  "metadata": {
    "colab": {
      "name": "ocr_using_python.ipynb",
      "provenance": [],
      "collapsed_sections": []
    },
    "kernelspec": {
      "name": "python3",
      "display_name": "Python 3"
    }
  },
  "cells": [
    {
      "cell_type": "code",
      "metadata": {
        "id": "ylhuhqeD7L1I",
        "colab_type": "code",
        "colab": {}
      },
      "source": [
        "import os\n",
        "import pytesseract\n",
        "import os\n",
        "from PIL import Image "
      ],
      "execution_count": null,
      "outputs": []
    },
    {
      "cell_type": "code",
      "metadata": {
        "id": "68eg1rkS7Q_3",
        "colab_type": "code",
        "colab": {}
      },
      "source": [
        "pytesseract.pytesseract.tesseract_cmd = r\"E:\\tsss\\tesseract.exe\""
      ],
      "execution_count": null,
      "outputs": []
    },
    {
      "cell_type": "code",
      "metadata": {
        "id": "AalAKQ687xm1",
        "colab_type": "code",
        "colab": {}
      },
      "source": [
        "def convert():\n",
        "  img = Image.open('img.jpg')\n",
        "  text = pytesseract.image_to_string(img)\n",
        "  print(text)\n",
        "\n",
        "convert()"
      ],
      "execution_count": null,
      "outputs": []
    }
  ]
}